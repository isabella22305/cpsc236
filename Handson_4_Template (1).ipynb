{
 "cells": [
  {
   "cell_type": "markdown",
   "metadata": {},
   "source": [
    "# List and Tuples\n",
    "\n",
    "To submit this assignment in D2l, post the link to your notebook file on your GitHub account."
   ]
  },
  {
   "cell_type": "markdown",
   "metadata": {},
   "source": [
    "## 6.1 Prime Number Checker\n",
    "Create a program that checks whether a number is a prime number and displays its factors if it is not a prime number.\n",
    "\n",
    "### Console:\n",
    "```powershell\n",
    "Prime Number Checker\n",
    "\n",
    "Please enter an integer between 1 and 5000: 5\n",
    "5 is a prime number.\n",
    "\n",
    "Try again? (y/n): y\n",
    "\n",
    "Please enter an integer between 1 and 5000: 6\n",
    "6 is NOT a prime number.\n",
    "It has 4 factors: 1 2 3 6\n",
    "\n",
    "Try again? (y/n): y\n",
    "\n",
    "Please enter an integer between 1 and 5000: 200\n",
    "200 is NOT a prime number.\n",
    "It has 12 factors: 1 2 4 5 8 10 20 25 40 50 100 200\n",
    "\n",
    "Try again? (y/n): n\n",
    "\n",
    "Bye!\n",
    "```\n",
    "\n",
    "### Specifications:\n",
    "- A prime number is divisible by two factors (1 and itself). For example, 7 is a prime number because it is only divisible by 1 and 7.\n",
    "- If the user enters an integer that's not between 1 and 5000, the program should display an error message.\n",
    "- If the number is a prime number, the program should display a message.\n",
    "If the number is not a prime number, the program should display a message. Then, it should display the number of factors for the number and a list of those factors.\n",
    "- Store the factors for each number in a list.\n",
    "- Use functions to organize the code for this program.\n"
   ]
  },
  {
   "cell_type": "code",
   "execution_count": 21,
   "metadata": {},
   "outputs": [
    {
     "name": "stdout",
     "output_type": "stream",
     "text": [
      "Prime Number Checker\n"
     ]
    },
    {
     "name": "stdin",
     "output_type": "stream",
     "text": [
      "\n",
      "Please enter an integer between 1 and 5000:  400\n"
     ]
    },
    {
     "name": "stdout",
     "output_type": "stream",
     "text": [
      "400 is NOT a prime number.\n",
      "It has 15 factors: [1, 2, 4, 5, 8, 10, 16, 20, 25, 40, 50, 80, 100, 200, 400]\n"
     ]
    },
    {
     "name": "stdin",
     "output_type": "stream",
     "text": [
      "\n",
      "Try again? (y/n):  y\n",
      "\n",
      "Please enter an integer between 1 and 5000:  20\n"
     ]
    },
    {
     "name": "stdout",
     "output_type": "stream",
     "text": [
      "20 is NOT a prime number.\n",
      "It has 6 factors: [1, 2, 4, 5, 10, 20]\n"
     ]
    },
    {
     "name": "stdin",
     "output_type": "stream",
     "text": [
      "\n",
      "Try again? (y/n):  y\n",
      "\n",
      "Please enter an integer between 1 and 5000:  2\n"
     ]
    },
    {
     "name": "stdout",
     "output_type": "stream",
     "text": [
      "2 is a prime number.\n"
     ]
    },
    {
     "name": "stdin",
     "output_type": "stream",
     "text": [
      "\n",
      "Try again? (y/n):  n\n"
     ]
    },
    {
     "name": "stdout",
     "output_type": "stream",
     "text": [
      "\n",
      "Bye!\n"
     ]
    }
   ],
   "source": [
    "\n",
    "user_int = 5\n",
    "factors = []\n",
    "    \n",
    "def int_input():\n",
    "    global user_int\n",
    "    user_int = int(input(\"\\nPlease enter an integer between 1 and 5000: \"))\n",
    "    while (user_int <2 or user_int > 4999):\n",
    "        print(\"Invalid integer. Please try again.\")\n",
    "        user_int = int(input(\"Please enter an integer between 1 and 5000: \"))\n",
    "    return user_int\n",
    "\n",
    "def int_factors():\n",
    "    global factors\n",
    "    global user_int\n",
    "    counter = 0\n",
    "    for i in range(1, int(user_int) + 1):\n",
    "        if (int(user_int) % i == 0):\n",
    "            counter += 1\n",
    "            factors.append(i)\n",
    "    if(counter == 2):\n",
    "        return True, counter\n",
    "    else:\n",
    "        return False, counter\n",
    "\n",
    "def main():\n",
    "    global user_int\n",
    "    loop = \"y\"\n",
    "    print(\"Prime Number Checker\")\n",
    "    while loop == \"y\":\n",
    "        int_input()\n",
    "        prime, notPrime = int_factors()\n",
    "        if (prime):\n",
    "            print (str(user_int) + \" is a prime number.\")\n",
    "        else: \n",
    "            print (str(user_int) + \" is NOT a prime number.\")\n",
    "            print(\"It has \" + str(notPrime) + \" factors: \" + str(factors))\n",
    "        loop = str(input(\"\\nTry again? (y/n): \"))\n",
    "        factors.clear()\n",
    "    print(\"\\nBye!\")\n",
    "        \n",
    "if __name__ == \"__main__\":\n",
    "    main()\n",
    "\n"
   ]
  },
  {
   "cell_type": "markdown",
   "metadata": {},
   "source": [
    "## 6.2 - Contact Manager\n",
    "Create a program that a user can use to manage the primary email address and phone number for a contact.\n",
    "\n",
    "### Console\n",
    "```powershell\n",
    "Contact Manager\n",
    "\n",
    "COMMAND MENU\n",
    "list - Display all contacts\n",
    "view - View a contact\n",
    "add - Add a contact\n",
    "del - Delete a contact\n",
    "exit - Exit program\n",
    "\n",
    "Command: list\n",
    "1. Guido van Rossum\n",
    "2. Eric Idle\n",
    "\n",
    "Command: view\n",
    "Number: 2\n",
    "Name: Eric Idle\n",
    "Email: eric@ericidle.com\n",
    "Phone: +44 20 7946 0958\n",
    "\n",
    "Command: add\n",
    "Name: Mike Murach\n",
    "Email: mike@murach.com\n",
    "Phone: 559-123-4567\n",
    "Mike Murach was added.\n",
    "\n",
    "Command: del\n",
    "Number: 1\n",
    "Guido van Rossum was deleted.\n",
    "\n",
    "Command: list\n",
    "1. Eric Idle\n",
    "2. Mike Murach\n",
    "\n",
    "Command: exit\n",
    "Bye!\n",
    "```\n",
    "\n",
    "### Specifications:\n",
    "- Use a list of lists to store the data for the contacts. Provide starting data for two or more contacts.\n",
    "- For the `view` and `del` commands, display an error message if the user enters and invalid contact number.\n",
    "- When you exit the program, all changes that you made to the contact list are lost.\n",
    "\n",
    "\n"
   ]
  },
  {
   "cell_type": "code",
   "execution_count": null,
   "metadata": {},
   "outputs": [],
   "source": []
  },
  {
   "cell_type": "code",
   "execution_count": 5,
   "metadata": {},
   "outputs": [
    {
     "name": "stdout",
     "output_type": "stream",
     "text": [
      "COMMAND MENU\n",
      "list - Display all contacts\n",
      "view - View a contact\n",
      "add - Add a contact\n",
      "del - Delete a contact\n",
      "exit - Exit program\n",
      "\n"
     ]
    },
    {
     "name": "stdin",
     "output_type": "stream",
     "text": [
      "Command:  view\n",
      "\n",
      "Number:  2\n"
     ]
    },
    {
     "name": "stdout",
     "output_type": "stream",
     "text": [
      "Name: Tyrion Lannister\n",
      "Email: bestlannister@daeneryssucks.com\n",
      "Phone: 511-623-9999\n",
      "\n"
     ]
    },
    {
     "name": "stdin",
     "output_type": "stream",
     "text": [
      "Command:  add\n",
      "Name:  mama\n",
      "Email:  sita\n",
      "Phone:  2323232323\n"
     ]
    },
    {
     "name": "stdout",
     "output_type": "stream",
     "text": [
      "mama was added.\n",
      "\n"
     ]
    },
    {
     "name": "stdin",
     "output_type": "stream",
     "text": [
      "Command:  del\n",
      "Number:  3\n"
     ]
    },
    {
     "name": "stdout",
     "output_type": "stream",
     "text": [
      "mama was deleted.\n",
      "\n"
     ]
    },
    {
     "name": "stdin",
     "output_type": "stream",
     "text": [
      "Command:  exit\n"
     ]
    },
    {
     "name": "stdout",
     "output_type": "stream",
     "text": [
      "Bye!\n"
     ]
    }
   ],
   "source": [
    "def list(contact_list) :\n",
    "    i = 1\n",
    "    for row in contact_list:\n",
    "        print (str(i) + \". \" + row[0])\n",
    "        i += 1\n",
    "    print()\n",
    "\n",
    "def view(contact_list):\n",
    "    num_view = int(input(\"\\nNumber: \"))\n",
    "    if num_view < 1 or num_view > len(contact_list):\n",
    "        print(\"Invalid contact number. \\n\")\n",
    "    else:\n",
    "        print(\"Name: \" + contact_list[num_view - 1][0])\n",
    "        print(\"Email: \" + contact_list[num_view -1][1])\n",
    "        print(\"Phone: \" + contact_list[num_view -1][2] + \"\\n\")\n",
    "              \n",
    "def add(contact_list):\n",
    "    name = input(\"Name: \")\n",
    "    email = input(\"Email: \")\n",
    "    phone = input(\"Phone: \")\n",
    "    contact = []\n",
    "    contact.append(name)\n",
    "    contact.append(email)\n",
    "    contact.append(phone)\n",
    "    contact_list.append(contact)\n",
    "    print(contact[0] + \" was added.\\n\")\n",
    "\n",
    "def delete(contact_list):\n",
    "    number = int(input(\"Number: \"))\n",
    "    if number < 1 or number > len(contact_list):\n",
    "        print(\"Invalid contact number.\\n\")\n",
    "    else:\n",
    "        contact = contact_list.pop(number-1)\n",
    "        print(contact[0] + \" was deleted.\\n\")\n",
    "\n",
    "def display_menu():\n",
    "    print(\"COMMAND MENU\")\n",
    "    print(\"list - Display all contacts\")\n",
    "    print(\"view - View a contact\")\n",
    "    print(\"add - Add a contact\")\n",
    "    print(\"del - Delete a contact\")\n",
    "    print(\"exit - Exit program\")\n",
    "    print()\n",
    "\n",
    "def main():\n",
    "    contact_list = [[\"Britney Spears\", \"britney_spears@hitmebabyonemoretime.com\" , \"777-223-9898\"], \n",
    "                    [\"Tyrion Lannister\", \"bestlannister@daeneryssucks.com\", \"511-623-9999\"]]\n",
    "    display_menu()\n",
    "    while True:\n",
    "        command = input(\"Command: \")\n",
    "        if command == \"list\":\n",
    "            list(contact_list)\n",
    "        elif command == \"view\":\n",
    "            view(contact_list)\n",
    "        elif command == \"add\":\n",
    "            add(contact_list)\n",
    "        elif command == \"del\":\n",
    "            delete(contact_list)\n",
    "        elif command == \"exit\":\n",
    "            break\n",
    "        else:\n",
    "            print(\"Not a valid command. Please try again.\\n\")\n",
    "    print(\"Bye!\")\n",
    "\n",
    "if __name__ == \"__main__\":\n",
    "    main()\n"
   ]
  },
  {
   "cell_type": "code",
   "execution_count": null,
   "metadata": {},
   "outputs": [],
   "source": []
  }
 ],
 "metadata": {
  "kernelspec": {
   "display_name": "Python [conda env:base] *",
   "language": "python",
   "name": "conda-base-py"
  },
  "language_info": {
   "codemirror_mode": {
    "name": "ipython",
    "version": 3
   },
   "file_extension": ".py",
   "mimetype": "text/x-python",
   "name": "python",
   "nbconvert_exporter": "python",
   "pygments_lexer": "ipython3",
   "version": "3.12.7"
  }
 },
 "nbformat": 4,
 "nbformat_minor": 4
}
