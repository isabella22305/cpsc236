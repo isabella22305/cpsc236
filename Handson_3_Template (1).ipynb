{
 "cells": [
  {
   "cell_type": "markdown",
   "metadata": {},
   "source": [
    "# Functions\n",
    "\n",
    "To submit this assignment in D2l, post the link to your notebook file on your GitHub account."
   ]
  },
  {
   "cell_type": "markdown",
   "metadata": {},
   "source": [
    "## 4.1 Even or Odd Checker\n",
    "Create a program that checks whether a number is even or odd.\n",
    "\n",
    "### Console:\n",
    "```powershell\n",
    "Even or Odd Checker\n",
    "\n",
    "Enter an integer: 33\n",
    "This is an odd number.\n",
    "```\n",
    "\n",
    "### Specifications:\n",
    "- Store the code that gets user input and displays output in the main function.\n",
    "- Store the code that checks whether the number is even or odd in a separate function.\n",
    "- Assume that the user will enter a valid integer.\n"
   ]
  },
  {
   "cell_type": "code",
   "execution_count": 5,
   "metadata": {},
   "outputs": [
    {
     "name": "stdout",
     "output_type": "stream",
     "text": [
      "Even or Odd Checker\n",
      "\n"
     ]
    },
    {
     "name": "stdin",
     "output_type": "stream",
     "text": [
      "Enter an integer:  98\n"
     ]
    },
    {
     "name": "stdout",
     "output_type": "stream",
     "text": [
      "This is an even number.\n"
     ]
    }
   ],
   "source": [
    "#Main function for getting user input\n",
    "def main():\n",
    "    print(\"Even or Odd Checker\\n\")\n",
    "\n",
    "    num = int(input(\"Enter an integer: \"))\n",
    "\n",
    "    checkNum(num)\n",
    "\n",
    "#checkNum function to see if the integer is even or odd\n",
    "def checkNum(num):\n",
    "    if (num % 2 == 0):\n",
    "        print(\"This is an even number.\")\n",
    "    else:\n",
    "        print(\"This is an odd number.\")\n",
    "        \n",
    "main()\n"
   ]
  },
  {
   "cell_type": "markdown",
   "metadata": {},
   "source": [
    "## 4.2 - Feet and Meters Converter\n",
    "Create a program that converts feet to meters and vice versa.\n",
    "\n",
    "### Console\n",
    "```powershell\n",
    "Feet and Meters Converter\n",
    "\n",
    "Conversions Menu:\n",
    "a.\tFeet to Meters\n",
    "b.\tMeters to Feet\n",
    "Select a conversion (a/b): a\n",
    "\n",
    "Enter feet: 100\n",
    "30.48 meters\n",
    "\n",
    "Would you like to perform another conversion? (y/n): y \n",
    "\n",
    "Conversions Menu:\n",
    "a.\tFeet to Meters\n",
    "b.\tMeters to Feet\n",
    "Select a conversion (a/b): b\n",
    "\n",
    "Enter meters: 100\n",
    "328.08 feet\n",
    "\n",
    "Would you like to perform another conversion? (y/n): n\n",
    "\n",
    "Thanks, bye!\n",
    "```\n",
    "\n",
    "### Specifications:\n",
    "- The formula for converting feet to meters is:\n",
    "`feet = meters / 0.3048`\n",
    "\n",
    "- The formula for converting meters to feet is:\n",
    "`meters = feet * 0.3048`\n",
    "\n",
    "- Store the code that performs the conversions in functions within a module. For example, store the code that converts feet to meters in a function in a module.\n",
    "- Store the code that displays the title in its own function, and store the code that displays the menu in its own function, but store the rest of the code that gets input and displays output in a main function.\n",
    "- Assume the user will enter valid data.\n",
    "- The program should round results to a maximum of two decimal places.\n",
    "\n",
    "\n"
   ]
  },
  {
   "cell_type": "code",
   "execution_count": null,
   "metadata": {},
   "outputs": [],
   "source": []
  },
  {
   "cell_type": "code",
   "execution_count": 7,
   "metadata": {},
   "outputs": [
    {
     "name": "stdout",
     "output_type": "stream",
     "text": [
      "Feet and Meters Converter\n",
      "\n",
      "Conversions Menu: \n",
      "a.    Feet to Meters \n",
      "b.    Meters to Feet\n"
     ]
    },
    {
     "name": "stdin",
     "output_type": "stream",
     "text": [
      "\n",
      "Select a conversion (a/b):  a\n",
      "\n",
      "Enter feet:  986\n"
     ]
    },
    {
     "name": "stdout",
     "output_type": "stream",
     "text": [
      "\n",
      "300.53 meters\n"
     ]
    },
    {
     "name": "stdin",
     "output_type": "stream",
     "text": [
      "\n",
      "Would you like to perform another conversion? (y/n):  Y\n"
     ]
    },
    {
     "name": "stdout",
     "output_type": "stream",
     "text": [
      "\n",
      "Conversions Menu: \n",
      "a.    Feet to Meters \n",
      "b.    Meters to Feet\n"
     ]
    },
    {
     "name": "stdin",
     "output_type": "stream",
     "text": [
      "\n",
      "Select a conversion (a/b):  b\n",
      "\n",
      "Enter meters:  8755\n"
     ]
    },
    {
     "name": "stdout",
     "output_type": "stream",
     "text": [
      "\n",
      "28723.75 feet\n"
     ]
    },
    {
     "name": "stdin",
     "output_type": "stream",
     "text": [
      "\n",
      "Would you like to perform another conversion? (y/n):  n\n"
     ]
    },
    {
     "name": "stdout",
     "output_type": "stream",
     "text": [
      "\n",
      "Thanks, bye!\n"
     ]
    }
   ],
   "source": [
    "import module3\n",
    "\n",
    "#Function that holds the title\n",
    "def title ():\n",
    "    print(\"Feet and Meters Converter\")\n",
    "\n",
    "#Function that holds the menu\n",
    "def menu():print(\"\\nConversions Menu: \\na.    Feet to Meters \\nb.    Meters to Feet\")\n",
    "\n",
    "#Function for inputs/outputs\n",
    "def main():\n",
    "    conv = input(str(\"\\nSelect a conversion (a/b): \"))\n",
    "    if (conv == \"a\" or conv ==\"A\"):\n",
    "        feet = input(str(\"\\nEnter feet: \"))\n",
    "        convmeters = module3.metersconv(feet)\n",
    "        print(\"\\n\" + str(round(convmeters,2)) + \" meters\")\n",
    "    elif (conv == \"b\" or conv == \"B\"):\n",
    "        meters = input(str(\"\\nEnter meters: \"))\n",
    "        convfeet = module3.feetconv(meters)\n",
    "        print(\"\\n\" + str(round(convfeet, 2)) + \" feet\")\n",
    "    repeat = input(str(\"\\nWould you like to perform another conversion? (y/n): \"))\n",
    "    return repeat\n",
    "\n",
    "\n",
    "#Calling functions\n",
    "title()\n",
    "menu()\n",
    "main()\n",
    "\n",
    "#Loops as long as the user enters 'y' or 'Y'\n",
    "repeat = \"y\"\n",
    "while repeat == \"y\":\n",
    "    menu()\n",
    "    repeat = main()\n",
    "    if (repeat == \"y\" or repeat ==\"Y\"):\n",
    "        main()\n",
    "    elif (repeat == \"n\" or repeat == \"N\"):\n",
    "        print(\"\\nThanks, bye!\")\n",
    "\n"
   ]
  },
  {
   "cell_type": "markdown",
   "metadata": {},
   "source": [
    "###### 4.3 - Sales Tax Calculator\n",
    "Create a program that uses a separate module to calculate sales tax and total after tax.\n",
    "\n",
    "### Console\n",
    "```powershell\n",
    "Sales Tax Calculator\n",
    "\n",
    "ENTER ITEMS (ENTER 0 TO END)\n",
    "Cost of item: 35.99 \n",
    "Cost of item: 27.50 \n",
    "Cost of item: 19.59 \n",
    "Cost of item: 0 \n",
    "Total:  83.08\n",
    "Sales tax:\t4.98\n",
    "Total after tax: 88.06 \n",
    "\n",
    "Again? (y/n): y\n",
    "\n",
    "ENTER ITEMS (ENTER 0 TO END)\n",
    "Cost of item: 152.50 \n",
    "Cost of item: 59.80 \n",
    "Cost of item: 0\n",
    "Total:  212.3\n",
    "Sales tax:\t12.74\n",
    "Total after tax: 225.04 \n",
    "\n",
    "Again? (y/n): n\n",
    "\n",
    "Thanks, bye!\n",
    "\n",
    "```\n",
    "\n",
    "### Specifications\n",
    "- The sales tax rate should be 6% of the total.\n",
    "- Store the sales tax rate in a module. This module should also contain functions that calculate the sales tax and the total after tax. These functions should round the results to a maximum of two decimal places. Upload the seperate sales tax module to your GitHub repo when submitting.\n",
    "- Store the code that gets input and displays output in this notebook. Divide this code into functions wherever you think it would make that code easier to read and maintain.\n",
    "- Assume the user will enter valid data.\n",
    "\n"
   ]
  },
  {
   "cell_type": "code",
   "execution_count": 13,
   "metadata": {},
   "outputs": [
    {
     "name": "stdout",
     "output_type": "stream",
     "text": [
      "Sales Tax Calculator\n",
      "\n",
      "ENTER ITEMS (ENTER 0 TO END)\n"
     ]
    },
    {
     "name": "stdin",
     "output_type": "stream",
     "text": [
      "Cost of item:  20\n",
      "Cost of item:  20\n",
      "Cost of item:  20\n",
      "Cost of item:  0\n"
     ]
    },
    {
     "name": "stdout",
     "output_type": "stream",
     "text": [
      "\n",
      "Total: 60.0\n",
      "Sales tax: 3.6\n",
      "Total after tax: 63.6\n"
     ]
    },
    {
     "name": "stdin",
     "output_type": "stream",
     "text": [
      "Again? (y/n):  y\n"
     ]
    },
    {
     "name": "stdout",
     "output_type": "stream",
     "text": [
      "\n",
      "ENTER ITEMS (ENTER 0 TO END)\n"
     ]
    },
    {
     "name": "stdin",
     "output_type": "stream",
     "text": [
      "Cost of item:  100\n",
      "Cost of item:  100\n",
      "Cost of item:  100\n",
      "Cost of item:  0\n"
     ]
    },
    {
     "name": "stdout",
     "output_type": "stream",
     "text": [
      "\n",
      "Total: 300.0\n",
      "Sales tax: 18.0\n",
      "Total after tax: 318.0\n"
     ]
    },
    {
     "name": "stdin",
     "output_type": "stream",
     "text": [
      "Again? (y/n):  n\n"
     ]
    },
    {
     "name": "stdout",
     "output_type": "stream",
     "text": [
      "Thanks, bye!\n"
     ]
    }
   ],
   "source": [
    "import module31\n",
    "\n",
    "print(\"Sales Tax Calculator\")\n",
    "\n",
    "#Global variables\n",
    "total = 0\n",
    "total_tax = 0\n",
    "itemCost = 1.0\n",
    "\n",
    "#function to get cost of items and adds it to the total each time\n",
    "def item_enter ():\n",
    "    print(\"\\nENTER ITEMS (ENTER 0 TO END)\")\n",
    "    global itemCost\n",
    "    global total\n",
    "    while (itemCost != 0):\n",
    "        itemCost = float(input(\"Cost of item: \"))\n",
    "        total  += itemCost\n",
    "\n",
    "#function to display outputs and ask if the user wants to do it again\n",
    "def outputs ():\n",
    "    global total\n",
    "    global total_tax\n",
    "    totalSale_tax = module31.totalSale_tax(total)\n",
    "    total_tax = module31.total_tax(total)\n",
    "    print(\"\\nTotal: \" + str(round(total, 2)))\n",
    "    print(\"Sales tax: \" + str(round(total_tax, 2)))\n",
    "    print(\"Total after tax: \" + str(round(totalSale_tax, 2)))\n",
    "    repeat = str(input(\"Again? (y/n): \"))\n",
    "   \n",
    "    return repeat\n",
    "    \n",
    "def main():\n",
    "    item_enter()\n",
    "    outputs()\n",
    "    repeat = \"y\"\n",
    "\n",
    "\n",
    "    while repeat == \"y\":\n",
    "        global itemCost\n",
    "        global total\n",
    "        global total_tax\n",
    "        total = 0\n",
    "        total_tax = 0\n",
    "        itemCost = 1\n",
    "        item_enter()\n",
    "        repeat= outputs()\n",
    "    print(\"Thanks, bye!\")\n",
    "\n",
    "main()\n"
   ]
  },
  {
   "cell_type": "markdown",
   "metadata": {},
   "source": [
    "## 4.4 - Prime Number Checker\n",
    "Create a program that checks whether a number is a prime number and displays the total number of factors if it is not a prime number.\n",
    "\n",
    "### Console\n",
    "```powershell\n",
    "Prime Number Checker\n",
    "\n",
    "Please enter an integer between 1 and 5000: 1 \n",
    "Invalid integer. Please try again.\n",
    "Please enter an integer between 1 and 5000: 2\n",
    "2 is a prime number. \n",
    "\n",
    "Try again? (y/n): y\n",
    "\n",
    "Please enter an integer between 1 and 5000: 3\n",
    "3 is a prime number.\n",
    "\n",
    "Try again? (y/n): y\n",
    "\n",
    "Please enter an integer between 1 and 5000: 4\n",
    "4 is NOT a prime number.\n",
    "It has 3 factors.\n",
    "\n",
    "Try again? (y/n): y\n",
    "\n",
    "Please enter an integer between 1 and 5000: 6\n",
    "6 is NOT a prime number.\n",
    "It has 4 factors.\n",
    "\n",
    "Try again? (y/n): n\n",
    "\n",
    "Bye!\n",
    "```\n",
    "\n",
    "### Specifications\n",
    "- A prime number is only divisible by two factors (1 and itself). For example, 7 is a prime number because it is only divisible by 1 and 7.\n",
    "- If the number is not a prime number, the program should display its number of factors. For example, 6 has four factors (1, 2, 3, and 6).\n",
    "- Store the code that gets a valid integer for this program in its own function.\n",
    "- Store the code that calculates the number of factors for a number in its own function.\n",
    "- Store the rest of the code that gets input and displays output in the main function.\n",
    "\n"
   ]
  },
  {
   "cell_type": "code",
   "execution_count": 7,
   "metadata": {},
   "outputs": [
    {
     "ename": "SyntaxError",
     "evalue": "unmatched ')' (9041399.py, line 30)",
     "output_type": "error",
     "traceback": [
      "\u001b[1;36m  Cell \u001b[1;32mIn[7], line 30\u001b[1;36m\u001b[0m\n\u001b[1;33m    print (str(user_input) + \"is a prime number.\"))\u001b[0m\n\u001b[1;37m                                                  ^\u001b[0m\n\u001b[1;31mSyntaxError\u001b[0m\u001b[1;31m:\u001b[0m unmatched ')'\n"
     ]
    }
   ],
   "source": [
    "\n",
    "user_int = 5\n",
    "    \n",
    "def int_input():\n",
    "    global user_int\n",
    "    user_int = int(input(\"\\nPlease enter an integer between 1 and 5000: \"))\n",
    "    while (user_int <2 or user_int > 4999):\n",
    "        print(\"Invalid integer. Please try again.\")\n",
    "        user_int = int(input(\"Please enter an integer between 1 and 5000: \"))\n",
    "    return user_int\n",
    "\n",
    "def int_factors():\n",
    "    global user_int\n",
    "    counter = 0\n",
    "    for i in range(1, int(user_int) + 1):\n",
    "        if (int(user_int) % i == 0):\n",
    "            counter += 1\n",
    "    if(counter == 2):\n",
    "        return True, counter\n",
    "    else:\n",
    "        return False, counter\n",
    "\n",
    "def main():\n",
    "    global user_int\n",
    "    loop = \"y\"\n",
    "    print(\"Prime Number Checker\")\n",
    "    while loop == \"y\":\n",
    "        int_input()\n",
    "        prime, notPrime = int_factors(user_int)\n",
    "        if (prime):\n",
    "            print (str(user_input) + \"is a prime number.\"))\n",
    "        else: \n",
    "            print (str(user_input) + \"is NOT a prime number.\")\n",
    "            print(\"It has \" + str(notPrime) + \" factors.\")\n",
    "        loop = str(input(\"\\nTry again? (y/n): \")\n",
    "    \n",
    "    \n",
    "    \n",
    "\n",
    "int_input()"
   ]
  },
  {
   "cell_type": "markdown",
   "metadata": {},
   "source": []
  },
  {
   "cell_type": "code",
   "execution_count": null,
   "metadata": {},
   "outputs": [],
   "source": []
  }
 ],
 "metadata": {
  "kernelspec": {
   "display_name": "Python [conda env:base] *",
   "language": "python",
   "name": "conda-base-py"
  },
  "language_info": {
   "codemirror_mode": {
    "name": "ipython",
    "version": 3
   },
   "file_extension": ".py",
   "mimetype": "text/x-python",
   "name": "python",
   "nbconvert_exporter": "python",
   "pygments_lexer": "ipython3",
   "version": "3.12.7"
  }
 },
 "nbformat": 4,
 "nbformat_minor": 4
}
