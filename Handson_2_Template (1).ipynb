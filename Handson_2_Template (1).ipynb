{
 "cells": [
  {
   "cell_type": "markdown",
   "metadata": {},
   "source": [
    "# Selections and Loops"
   ]
  },
  {
   "cell_type": "markdown",
   "metadata": {},
   "source": [
    "## 3.1 Letter Grade Converter\n",
    "Create a program that converts number grades to letter grades.\n",
    "\n",
    "### Console:\n",
    "```powershell\n",
    "Letter Grade Converter\n",
    "\n",
    "Enter numerical grade: 90 \n",
    "Letter grade: A\n",
    "\n",
    "Continue? (y/n): y\n",
    "\n",
    "Enter numerical grade: 88 \n",
    "Letter grade: A\n",
    "\n",
    "Continue? (y/n): y\n",
    "\n",
    "Enter numerical grade: 80 \n",
    "Letter grade: B\n",
    "\n",
    "Continue? (y/n): y\n",
    "\n",
    "Enter numerical grade: 67 \n",
    "Letter grade: C\n",
    "\n",
    "Continue? (y/n): y\n",
    "\n",
    "Enter numerical grade: 59 \n",
    "Letter grade: F\n",
    "\n",
    "Continue? (y/n): n\n",
    "\n",
    "Bye!\n",
    "```\n",
    "\n",
    "### Specifications:\n",
    "- Assume that the user will enter valid integers for the grades.\n",
    "- The program should continue only if the user enters “y” or “Y” to continue.\n",
    "- The grading criteria is as follows:\n",
    "\n",
    "| Letter |\tRange |\n",
    "|---|-------|\n",
    "| A |\t88-100 |\n",
    "| B |\t80-87 |\n",
    "| C |\t67-79 |\n",
    "| D |\t60-66 |\n",
    "| F |\t<60 |"
   ]
  },
  {
   "cell_type": "code",
   "execution_count": 55,
   "metadata": {},
   "outputs": [
    {
     "name": "stdout",
     "output_type": "stream",
     "text": [
      "Letter Grade Converter\n",
      "\n"
     ]
    },
    {
     "name": "stdin",
     "output_type": "stream",
     "text": [
      "Enter a numerical grade:  21\n"
     ]
    },
    {
     "name": "stdout",
     "output_type": "stream",
     "text": [
      "Letter grade: F\n",
      "\n"
     ]
    },
    {
     "name": "stdin",
     "output_type": "stream",
     "text": [
      "Continue? (y/n):  y\n"
     ]
    },
    {
     "name": "stdout",
     "output_type": "stream",
     "text": [
      "\n"
     ]
    },
    {
     "name": "stdin",
     "output_type": "stream",
     "text": [
      "Enter a numerical grade:  86\n"
     ]
    },
    {
     "name": "stdout",
     "output_type": "stream",
     "text": [
      "Letter grade: B\n",
      "\n"
     ]
    },
    {
     "name": "stdin",
     "output_type": "stream",
     "text": [
      "Continue? (y/n):  n\n"
     ]
    },
    {
     "name": "stdout",
     "output_type": "stream",
     "text": [
      "\n",
      "Bye!\n"
     ]
    }
   ],
   "source": [
    "print(\"Letter Grade Converter\")\n",
    "\n",
    "print()\n",
    "while True:\n",
    "    grade = int(input(\"Enter a numerical grade: \"))\n",
    "    if grade>= 88 and grade<=100:\n",
    "        print(\"Letter grade: A\")\n",
    "    elif grade>= 80 and grade<=87:\n",
    "        print(\"Letter grade: B\")\n",
    "    elif grade>= 67 and grade<=79:\n",
    "        print(\"Letter grade: C\")\n",
    "    elif grade>= 60 and grade<=66:\n",
    "        print(\"Letter grade: D\")\n",
    "    elif grade<60:\n",
    "        print(\"Letter grade: F\")\n",
    "    else: \n",
    "        print(\"Please try again.\")\n",
    "    print()\n",
    "    cont = str(input(\"Continue? (y/n): \"))\n",
    "    if cont == \"Y\" or cont == \"y\":\n",
    "        print()\n",
    "        continue\n",
    "    else:\n",
    "        break\n",
    "    print()\n",
    "print()\n",
    "print(\"Bye!\")"
   ]
  },
  {
   "cell_type": "markdown",
   "metadata": {},
   "source": [
    "## 3.2 - Tip Calculator\n",
    "Create a program that calculates three options for an appropriate tip to leave after a meal at a restaurant.\n",
    "\n",
    "### Console\n",
    "```powershell\n",
    "Tip Calculator\n",
    "\n",
    "Cost of meal: 52.31 \n",
    "\n",
    "15%\n",
    "Tip amount:\t7.85\n",
    "Total amount: 60.16\n",
    "\n",
    "20%\n",
    "Tip amount:\t10.46\n",
    "Total amount: 62.77\n",
    "\n",
    "25%\n",
    "Tip amount:\t13.08\n",
    "Total amount: 65.39\n",
    "```\n",
    "\n",
    "### Specifications:\n",
    "- The program should calculate and display the cost of tipping at 15%, 20%, or 25%.\n",
    "- Assume the user will enter valid data.\n",
    "- The program should round results to a maximum of two decimal places.\n",
    "\n"
   ]
  },
  {
   "cell_type": "code",
   "execution_count": 5,
   "metadata": {},
   "outputs": [
    {
     "name": "stdout",
     "output_type": "stream",
     "text": [
      "Tip Calculator\n",
      "\n"
     ]
    },
    {
     "name": "stdin",
     "output_type": "stream",
     "text": [
      "Cost of meal: 23\n"
     ]
    },
    {
     "name": "stdout",
     "output_type": "stream",
     "text": [
      "\n",
      " 15 %\n",
      "Tip amount:\t 3.45 \n",
      "Total amount:\t 26.45\n",
      "\n",
      " 20 %\n",
      "Tip amount:\t 4.6 \n",
      "Total amount:\t 27.6\n",
      "\n",
      " 25 %\n",
      "Tip amount:\t 5.75 \n",
      "Total amount:\t 28.75\n"
     ]
    }
   ],
   "source": [
    "print(\"Tip Calculator\\n\")\n",
    "\n",
    "cost = float(input(\"Cost of meal:\"))\n",
    "\n",
    "for i in range(15, 30, 5):\n",
    "    \n",
    "    tipperc = i / 100\n",
    "    \n",
    "    temp = round((cost*tipperc), 2)\n",
    "\n",
    "    tiptotal = round(cost+temp, 2)\n",
    "\n",
    "    print(\"\\n\",i,\"%\\nTip amount:\\t\",str(temp),\"\\nTotal amount:\\t\",str(tiptotal))"
   ]
  },
  {
   "cell_type": "markdown",
   "metadata": {},
   "source": [
    "## 3.3 - Change Calculator\n",
    "Create a program that calculates the coins needed to make change for the specified number of cents.\n",
    "\n",
    "### Console\n",
    "```powershell\n",
    "Change Calculator\n",
    "\n",
    "Enter number of cents (0-99): 99\n",
    "\n",
    "Quarters: 3\n",
    "Dimes:\t2\n",
    "Nickels: 0\n",
    "Pennies: 4\n",
    "\n",
    "Continue? (y/n): y\n",
    "\n",
    "Enter number of cents (0-99): 55\n",
    "\n",
    "Quarters: 2\n",
    "Dimes:\t0\n",
    "Nickels: 1\n",
    "Pennies: 0\n",
    "\n",
    "Continue? (y/n): n \n",
    "\n",
    "Bye!\n",
    "```\n",
    "\n",
    "### Specifications\n",
    "- The program should display the minimum number of quarters, dimes, nickels, and pennies that one needs to make up the specified number of cents.\n",
    "- Assume that the user will enter a valid integer for the number of cents.\n",
    "- The program should continue only if the user enters “y” or “Y” to continue.\n"
   ]
  },
  {
   "cell_type": "markdown",
   "metadata": {},
   "source": [
    "###### print(\"Change Calculator\\n\")\n",
    "while True:\n",
    "    cent = int(input(\"Enter number of cents (0-99):\"))\n",
    "    quart = cent // 25\n",
    "    cent = cent % 25\n",
    "    dime = cent // 10\n",
    "    cent = cent % 10\n",
    "    nick = cent // 5\n",
    "    cent = cent % 5\n",
    "    pen = cent\n",
    "    print(\"Quarters: \" + str(quart))\n",
    "    print(\"Dimes: \" + str(dime))\n",
    "    print(\"Nickles: \" + str(nick))\n",
    "    print(\"Pennies: \" + str(pen))\n",
    "    print()\n",
    "    que = str(input(\"Continue? (y/n):\"))\n",
    "    if que == \"n\":\n",
    "        break\n",
    "    elif que == \"y\" or que == \"Y\":\n",
    "        print()\n",
    "        continue\n",
    "    else:\n",
    "        print(\"Invalid Response\")\n",
    "        break\n",
    "print(\"\\nBye!\")\n"
   ]
  },
  {
   "cell_type": "markdown",
   "metadata": {},
   "source": [
    "## 3.4 - Table of Powers\n",
    "Create a program that displays a table of squares and cubes for the specified range of numbers.\n",
    "\n",
    "### Console\n",
    "```powershell\n",
    "Table of Powers\n",
    "\n",
    "Start number: 90\n",
    "Stop number: 100\n",
    "\n",
    "Number\tSquared\tCubed\n",
    "======\t=======\t=====\n",
    "90      8100\t729000\n",
    "91      8281\t753571\n",
    "92      8464\t778688\n",
    "93      8649\t804357\n",
    "94      8836\t830584\n",
    "95      9025\t857375\n",
    "96      9216\t884736\n",
    "97      9409\t912673\n",
    "98      9604\t941192\n",
    "99      9801\t970299\n",
    "100     10000\t1000000\n",
    "```\n",
    "\n",
    "### Specifications\n",
    "- The formulas for calculating squares and cubes are:\n",
    "\n",
    "    `square = x ** 2`\n",
    "    \n",
    "    `cube = x ** 3`\n",
    "\n",
    "- Use tabs to align the columns.\n",
    "- Assume that the user will enter valid integers.\n",
    "- Make sure the user enters a start integer that’s less than the stop integer. If the user enters a start integer that’s greater than the stop integer, display an error message and give the user a chance to enter the integers again.\n"
   ]
  },
  {
   "cell_type": "code",
   "execution_count": null,
   "metadata": {},
   "outputs": [
    {
     "name": "stdout",
     "output_type": "stream",
     "text": [
      "Table of Powers\n",
      "\n"
     ]
    },
    {
     "name": "stdin",
     "output_type": "stream",
     "text": [
      "Start number:  23\n"
     ]
    }
   ],
   "source": [
    "print(\"Table of Powers\\n\")\n",
    "start = int(input(\"Start number: \"))\n",
    "stop = int(input(\"Stop number: \"))\n",
    "while start >= stop:\n",
    "    print(\"Error: Starting Number has to be smaller than Stopping Number\")\n",
    "    start = int(input(\"Start number: \"))\n",
    "    stop = int(input(\"Stop number: \"))\n",
    "print(\"\\nNumber\\tSquared\\tCubed\")\n",
    "for i in range(start,(stop+1)):\n",
    "    print(i,(i ** 2),(i ** 3),sep = \"\\t\",end = (\"\\n\"))"
   ]
  },
  {
   "cell_type": "code",
   "execution_count": null,
   "metadata": {},
   "outputs": [],
   "source": []
  }
 ],
 "metadata": {
  "kernelspec": {
   "display_name": "Python [conda env:base] *",
   "language": "python",
   "name": "conda-base-py"
  },
  "language_info": {
   "codemirror_mode": {
    "name": "ipython",
    "version": 3
   },
   "file_extension": ".py",
   "mimetype": "text/x-python",
   "name": "python",
   "nbconvert_exporter": "python",
   "pygments_lexer": "ipython3",
   "version": "3.12.7"
  }
 },
 "nbformat": 4,
 "nbformat_minor": 4
}
